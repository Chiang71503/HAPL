{
  "nbformat": 4,
  "nbformat_minor": 0,
  "metadata": {
    "colab": {
      "provenance": []
    },
    "kernelspec": {
      "name": "python3",
      "display_name": "Python 3"
    },
    "language_info": {
      "name": "python"
    }
  },
  "cells": [
    {
      "cell_type": "code",
      "execution_count": null,
      "metadata": {
        "colab": {
          "base_uri": "https://localhost:8080/"
        },
        "id": "Yqwt8tWGAMYW",
        "outputId": "d863bbe6-2c9c-49b2-d144-95fd20af3fb1"
      },
      "outputs": [
        {
          "output_type": "stream",
          "name": "stdout",
          "text": [
            "請輸入數字:7\n",
            "      *\n",
            "     ***\n",
            "    *****\n",
            "   *******\n",
            "  *********\n",
            " ***********\n",
            "*************\n",
            "     ***\n",
            "     ***\n",
            "     ***\n",
            "     ***\n",
            "     ***\n"
          ]
        }
      ],
      "source": [
        "def tree(a):\n",
        "  for x in range(a*2):\n",
        "    if x%2==1:\n",
        "      w = int(a-x/2)\n",
        "      for y in range(w):\n",
        "        print(\" \",end='')\n",
        "      for z in range(x):\n",
        "        print(\"*\",end='')\n",
        "      print()\n",
        "  for b in range(5):\n",
        "    print(' '*(a-2)+'***')\n",
        "b = int(input('請輸入數字:'))\n",
        "tree(b)"
      ]
    },
    {
      "cell_type": "code",
      "source": [
        "try:\n",
        "  x = input(\"身高(公分):\")\n",
        "  x = float(x)\n",
        "  y = input(\"體重:\")\n",
        "  y = float(y)\n",
        "  a = float(x/100)**2\n",
        "  b = float(y/a)\n",
        "  def calculate(y,a):\n",
        "    b = y/a\n",
        "    return b\n",
        "  print(\"BMI:\",b)\n",
        "  if b<18.5:\n",
        "    print(\"體位:過輕\")\n",
        "  if 18.5<=b<24:\n",
        "    print(\"體位:適中\")\n",
        "  if 24<=b<27:\n",
        "    print(\"體位:過重\")\n",
        "  if b>=27:\n",
        "    print(\"體位:肥胖\")\n",
        "\n",
        "except Exception as e:\n",
        "  print('輸入內容錯誤')"
      ],
      "metadata": {
        "colab": {
          "base_uri": "https://localhost:8080/"
        },
        "id": "ZnimrL0UC3Kz",
        "outputId": "36ed3f60-fc22-4ee8-8e35-59306ba6c9b7"
      },
      "execution_count": null,
      "outputs": [
        {
          "output_type": "stream",
          "name": "stdout",
          "text": [
            "身高(公分):180\n",
            "體重:86\n",
            "BMI: 26.54320987654321\n",
            "體位:過重\n"
          ]
        }
      ]
    }
  ]
}