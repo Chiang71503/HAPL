{
  "nbformat": 4,
  "nbformat_minor": 0,
  "metadata": {
    "colab": {
      "provenance": []
    },
    "kernelspec": {
      "name": "python3",
      "display_name": "Python 3"
    },
    "language_info": {
      "name": "python"
    }
  },
  "cells": [
    {
      "cell_type": "code",
      "execution_count": 11,
      "metadata": {
        "colab": {
          "base_uri": "https://localhost:8080/"
        },
        "id": "9k773CDDwv6g",
        "outputId": "c9a362ec-23f0-4156-893a-2eed90a12d76"
      },
      "outputs": [
        {
          "output_type": "stream",
          "name": "stdout",
          "text": [
            "請輸入座標身高cm169\n",
            "請輸入座標體重kg53.1\n",
            "BMI: 18.591786001890693\n",
            "體位:適中\n"
          ]
        }
      ],
      "source": [
        "x = input(\"請輸入座標身高cm\")\n",
        "x = float(x)\n",
        "y = input(\"請輸入座標體重kg\")\n",
        "y = float(y)\n",
        "\n",
        "a = (x/100)\n",
        "b = (y/a**2)\n",
        "print(\"BMI:\",b)\n",
        "\n",
        "if b<18.5:\n",
        " print(\"體位:過輕\")\n",
        "if 18.5<=b<24:\n",
        " print(\"體位:適中\")\n",
        "if 24<=b<27:\n",
        " print(\"體位:過重\")\n",
        "if b>=27:\n",
        " print(\"體位:肥胖\")"
      ]
    },
    {
      "cell_type": "code",
      "source": [
        "x = input(\"請輸入第一個數字\")\n",
        "x = float(x)\n",
        "y = input(\"請輸入運算符號\")\n",
        "y = str(y)\n",
        "z = input(\"請輸入第二個數字\")\n",
        "z = float(z)\n",
        "\n",
        "a = x+z\n",
        "b = x-z\n",
        "c = x*z\n",
        "d = x/z\n",
        "if y==\"+\":\n",
        " print(a)\n",
        "if y==\"-\":\n",
        " print(b)\n",
        "if y==\"*\":\n",
        " print(c)\n",
        "if y==\"/\":\n",
        " print(d)"
      ],
      "metadata": {
        "colab": {
          "base_uri": "https://localhost:8080/"
        },
        "id": "8jC66NoQ3L0c",
        "outputId": "bfd67307-53df-42a5-daa3-8d9e531a50d0"
      },
      "execution_count": 27,
      "outputs": [
        {
          "output_type": "stream",
          "name": "stdout",
          "text": [
            "請輸入第一個數字2\n",
            "請輸入運算符號*\n",
            "請輸入第二個數字3\n",
            "6.0\n"
          ]
        }
      ]
    },
    {
      "cell_type": "code",
      "source": [],
      "metadata": {
        "id": "gkrvTVEd5BVP"
      },
      "execution_count": null,
      "outputs": []
    }
  ]
}