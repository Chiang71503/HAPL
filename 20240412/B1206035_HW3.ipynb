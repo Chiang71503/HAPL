{
  "nbformat": 4,
  "nbformat_minor": 0,
  "metadata": {
    "colab": {
      "provenance": []
    },
    "kernelspec": {
      "name": "python3",
      "display_name": "Python 3"
    },
    "language_info": {
      "name": "python"
    }
  },
  "cells": [
    {
      "cell_type": "code",
      "execution_count": 49,
      "metadata": {
        "colab": {
          "base_uri": "https://localhost:8080/"
        },
        "id": "HvNzu6wS7rV8",
        "outputId": "72750cc5-8bff-41f3-d582-71691a7c98eb"
      },
      "outputs": [
        {
          "output_type": "stream",
          "name": "stdout",
          "text": [
            "請輸入西元年份2400\n",
            "閏年\n"
          ]
        }
      ],
      "source": [
        "x = input(\"請輸入西元年份\")\n",
        "x = float(x)\n",
        "\n",
        "if x<=1582 and x%4==0:\n",
        " print(\"閏年\")\n",
        "if x>1582 and x%400!=0 and x%100==0:\n",
        " print(\"平年\")\n",
        "elif x>1582 and x%4==0:\n",
        " print(\"閏年\")\n",
        "if x%4!=0:\n",
        " print(\"平年\")"
      ]
    }
  ]
}