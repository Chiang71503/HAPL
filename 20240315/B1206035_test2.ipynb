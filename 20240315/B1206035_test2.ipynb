{
  "nbformat": 4,
  "nbformat_minor": 0,
  "metadata": {
    "colab": {
      "provenance": []
    },
    "kernelspec": {
      "name": "python3",
      "display_name": "Python 3"
    },
    "language_info": {
      "name": "python"
    }
  },
  "cells": [
    {
      "cell_type": "code",
      "execution_count": null,
      "metadata": {
        "colab": {
          "base_uri": "https://localhost:8080/"
        },
        "id": "jauUmil21y5q",
        "outputId": "031f6986-cf2a-4e1b-86a0-06e1685685dc"
      },
      "outputs": [
        {
          "output_type": "stream",
          "name": "stdout",
          "text": [
            "Ans. is =  495\n"
          ]
        }
      ],
      "source": [
        "x = 2\n",
        "y = 1\n",
        "\n",
        "a = (2*x+y)\n",
        "b = (100-y)\n",
        "\n",
        "z = (a*b)\n",
        "\n",
        "print(\"Ans. is = \", z)"
      ]
    },
    {
      "cell_type": "code",
      "source": [
        "y = 4\n",
        "\n",
        "a = (2*y+1)\n",
        "\n",
        "z = (100/a)\n",
        "\n",
        "print(\"Ans. is = \", z)"
      ],
      "metadata": {
        "colab": {
          "base_uri": "https://localhost:8080/"
        },
        "id": "qIwcGHSn3S5_",
        "outputId": "23adeea9-c552-43ce-ae35-87205cd85501"
      },
      "execution_count": null,
      "outputs": [
        {
          "output_type": "stream",
          "name": "stdout",
          "text": [
            "Ans. is =  11.11111111111111\n"
          ]
        }
      ]
    }
  ]
}