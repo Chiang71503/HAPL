{
  "nbformat": 4,
  "nbformat_minor": 0,
  "metadata": {
    "colab": {
      "provenance": []
    },
    "kernelspec": {
      "name": "python3",
      "display_name": "Python 3"
    },
    "language_info": {
      "name": "python"
    }
  },
  "cells": [
    {
      "cell_type": "code",
      "execution_count": 1,
      "metadata": {
        "colab": {
          "base_uri": "https://localhost:8080/"
        },
        "id": "w8BfJQOh8QIT",
        "outputId": "6f67ba50-115f-41b7-95a3-336319b9ad29"
      },
      "outputs": [
        {
          "output_type": "stream",
          "name": "stdout",
          "text": [
            "I'm a student\n"
          ]
        }
      ],
      "source": [
        "a = \"I'm a student\"\n",
        "\n",
        "print(a)"
      ]
    },
    {
      "cell_type": "code",
      "source": [
        "x1 = input(\"請輸入座標x1\")\n",
        "x1 = float(x1)\n",
        "y1 = input(\"請輸入座標y1\")\n",
        "y1 = float(y1)\n",
        "x2 = input(\"請輸入座標x2\")\n",
        "x2 = float(x2)\n",
        "y2 = input(\"請輸入座標y2\")\n",
        "y2 = float(y2)\n",
        "\n",
        "a = (x2-x1)\n",
        "b = (y2-y1)\n",
        "c = (a**2+b**2)\n",
        "z = (c**0.5)\n",
        "\n",
        "print(z)"
      ],
      "metadata": {
        "colab": {
          "base_uri": "https://localhost:8080/"
        },
        "id": "RzKwQ2ae82P_",
        "outputId": "acf7c495-943c-40ab-b250-4bde6a22eace"
      },
      "execution_count": 17,
      "outputs": [
        {
          "output_type": "stream",
          "name": "stdout",
          "text": [
            "請輸入座標x11\n",
            "請輸入座標y12\n",
            "請輸入座標x23\n",
            "請輸入座標y24\n",
            "2.8284271247461903\n"
          ]
        }
      ]
    },
    {
      "cell_type": "code",
      "source": [
        "x = input(\"請輸入座標身高m\")\n",
        "x = float(x)\n",
        "y = input(\"請輸入座標體重kg\")\n",
        "y = float(y)\n",
        "\n",
        "a = (y/x**2)\n",
        "\n",
        "print(a)"
      ],
      "metadata": {
        "colab": {
          "base_uri": "https://localhost:8080/"
        },
        "id": "a3cJfjdw82b9",
        "outputId": "afc20f8b-e61f-41cf-fe0e-1f2f37439f24"
      },
      "execution_count": 18,
      "outputs": [
        {
          "output_type": "stream",
          "name": "stdout",
          "text": [
            "請輸入座標身高m1.7\n",
            "請輸入座標體重kg53\n",
            "18.339100346020764\n"
          ]
        }
      ]
    }
  ]
}