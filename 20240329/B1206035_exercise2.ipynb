{
  "nbformat": 4,
  "nbformat_minor": 0,
  "metadata": {
    "colab": {
      "provenance": []
    },
    "kernelspec": {
      "name": "python3",
      "display_name": "Python 3"
    },
    "language_info": {
      "name": "python"
    }
  },
  "cells": [
    {
      "cell_type": "code",
      "execution_count": 25,
      "metadata": {
        "colab": {
          "base_uri": "https://localhost:8080/"
        },
        "id": "GmLXNSwjuX4v",
        "outputId": "ffd3fca6-86d4-456f-d92c-e2c8949bcede"
      },
      "outputs": [
        {
          "output_type": "stream",
          "name": "stdout",
          "text": [
            "{'姓名': '賴宏瑋', '性別': '男', '作業分數': ['100', '100', '90'], '學號': 'M1129020'}\n",
            "96.66666666666667\n"
          ]
        }
      ],
      "source": [
        "a = dict(姓名='賴宏瑋',性別='男',作業分數=['80','95','100','90'])\n",
        "\n",
        "a['學號'] = 'M1129020'\n",
        "a['作業分數'][1] = '100'\n",
        "del a['作業分數'][0]\n",
        "\n",
        "print(a)\n",
        "\n",
        "b = a.get('作業分數')\n",
        "c = int(b[0])\n",
        "d = int(b[1])\n",
        "e = int(b[2])\n",
        "f = (c+d+e)/3\n",
        "print(f)"
      ]
    }
  ]
}