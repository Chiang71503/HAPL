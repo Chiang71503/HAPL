{
  "nbformat": 4,
  "nbformat_minor": 0,
  "metadata": {
    "colab": {
      "provenance": []
    },
    "kernelspec": {
      "name": "python3",
      "display_name": "Python 3"
    },
    "language_info": {
      "name": "python"
    }
  },
  "cells": [
    {
      "cell_type": "code",
      "execution_count": 7,
      "metadata": {
        "colab": {
          "base_uri": "https://localhost:8080/"
        },
        "id": "0XhD303lppVS",
        "outputId": "24f61a7b-b01f-4037-d2db-32f3fbca3b5c"
      },
      "outputs": [
        {
          "output_type": "stream",
          "name": "stdout",
          "text": [
            "A\n",
            "['K', 'H', 'U']\n"
          ]
        }
      ],
      "source": [
        "a = 'C,B,A'\n",
        "b = ['F','G','H']\n",
        "\n",
        "c = a.split(',')\n",
        "d = c + b\n",
        "d[0] = 'K'\n",
        "e = d.pop(2)\n",
        "print(e)\n",
        "del d[1:4]\n",
        "d.append('U')\n",
        "print(d)"
      ]
    },
    {
      "cell_type": "code",
      "source": [
        "a = input(\"請輸入一個八位數的數字\")\n",
        "print(a[4])"
      ],
      "metadata": {
        "colab": {
          "base_uri": "https://localhost:8080/"
        },
        "id": "mQa2BlEix56-",
        "outputId": "4eb9c9b2-1715-47dc-a790-dab328a3f122"
      },
      "execution_count": 8,
      "outputs": [
        {
          "output_type": "stream",
          "name": "stdout",
          "text": [
            "請輸入一個八位數的數字12345678\n",
            "5\n"
          ]
        }
      ]
    },
    {
      "cell_type": "code",
      "source": [
        "a = 'MY ID is B1206035'\n",
        "print(len(a))\n",
        "print(len(a[9:18]))"
      ],
      "metadata": {
        "colab": {
          "base_uri": "https://localhost:8080/"
        },
        "id": "1nrRaOOLysfs",
        "outputId": "83da55c6-9eca-46cc-9613-3177a139f936"
      },
      "execution_count": 17,
      "outputs": [
        {
          "output_type": "stream",
          "name": "stdout",
          "text": [
            "17\n",
            "8\n"
          ]
        }
      ]
    },
    {
      "cell_type": "code",
      "source": [
        "a = \"I'm a studuent\"\n",
        "b = a.split(',')\n",
        "print(a[2])"
      ],
      "metadata": {
        "colab": {
          "base_uri": "https://localhost:8080/"
        },
        "id": "GV6Ye1f529oD",
        "outputId": "ea03b65e-0bfc-4624-8f56-ae68b76f2904"
      },
      "execution_count": 12,
      "outputs": [
        {
          "output_type": "stream",
          "name": "stdout",
          "text": [
            "m\n"
          ]
        }
      ]
    }
  ]
}